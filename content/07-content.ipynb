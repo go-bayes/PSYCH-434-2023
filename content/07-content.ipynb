{
  "cells": [
    {
      "cell_type": "raw",
      "metadata": {},
      "source": [
        "---\n",
        "title: \"Causal Inference: Causal Graphs\"\n",
        "date: \"2023-MAY-09\"\n",
        "---"
      ],
      "id": "9963cae2"
    },
    {
      "cell_type": "markdown",
      "metadata": {},
      "source": [
        "## Overview\n",
        "  \n",
        "## What is a Cause and What is an Effect? \n",
        "\n",
        "\n",
        "```{rust}\n",
        "R -> W\n",
        "R -> SS\n",
        "SS -> W\n",
        "\n",
        "```\n",
        "\n",
        "\n",
        "\n",
        "## Why is Causal Inference a “missing data” problem?\n",
        "\n",
        "\n",
        "\n",
        "b. Confounding and Confounders\n",
        "c. Causal Graphs to identify sources of confounding  \n",
        "  \n",
        "  \n",
        "  \n",
        "## Slides"
      ],
      "id": "bf92a1ac"
    }
  ],
  "metadata": {
    "kernelspec": {
      "display_name": "Python 3",
      "language": "python",
      "name": "python3"
    }
  },
  "nbformat": 4,
  "nbformat_minor": 5
}